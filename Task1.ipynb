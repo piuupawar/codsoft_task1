{
  "nbformat": 4,
  "nbformat_minor": 0,
  "metadata": {
    "colab": {
      "provenance": [],
      "authorship_tag": "ABX9TyMw3K4lbR/tcH9A01Y8VwED",
      "include_colab_link": true
    },
    "kernelspec": {
      "name": "python3",
      "display_name": "Python 3"
    },
    "language_info": {
      "name": "python"
    }
  },
  "cells": [
    {
      "cell_type": "markdown",
      "metadata": {
        "id": "view-in-github",
        "colab_type": "text"
      },
      "source": [
        "<a href=\"https://colab.research.google.com/github/piuupawar/codsoft_task1/blob/main/Task1.ipynb\" target=\"_parent\"><img src=\"https://colab.research.google.com/assets/colab-badge.svg\" alt=\"Open In Colab\"/></a>"
      ]
    },
    {
      "cell_type": "code",
      "execution_count": null,
      "metadata": {
        "colab": {
          "base_uri": "https://localhost:8080/"
        },
        "id": "IJ8u1N1GbHDQ",
        "outputId": "408c2024-08d3-4e56-d7c0-732ea71dbeee"
      },
      "outputs": [
        {
          "metadata": {
            "tags": null
          },
          "name": "stdout",
          "output_type": "stream",
          "text": [
            "\n",
            "Options:\n",
            "1. Add Task\n",
            "2. Update Task\n",
            "3. Remove Task\n",
            "4. Display Tasks\n",
            "5. Exit\n"
          ]
        }
      ],
      "source": [
        "class ToDoList:\n",
        "    def __init__(self):\n",
        "        self.tasks = []\n",
        "\n",
        "    def add_task(self, task):\n",
        "        self.tasks.append(task)\n",
        "        print(f'Task \"{task}\" added.')\n",
        "\n",
        "    def update_task(self, task_index, new_task):\n",
        "        if 0 <= task_index < len(self.tasks):\n",
        "            old_task = self.tasks[task_index]\n",
        "            self.tasks[task_index] = new_task\n",
        "            print(f'Task \"{old_task}\" updated to \"{new_task}\".')\n",
        "        else:\n",
        "            print(\"Invalid task index.\")\n",
        "\n",
        "    def remove_task(self, task_index):\n",
        "        if 0 <= task_index < len(self.tasks):\n",
        "            removed_task = self.tasks.pop(task_index)\n",
        "            print(f'Task \"{removed_task}\" removed.')\n",
        "        else:\n",
        "            print(\"Invalid task index.\")\n",
        "\n",
        "    def display_tasks(self):\n",
        "        if not self.tasks:\n",
        "            print(\"No tasks in the list.\")\n",
        "        else:\n",
        "            print(\"To-Do List:\")\n",
        "            for index, task in enumerate(self.tasks):\n",
        "                print(f\"{index + 1}. {task}\")\n",
        "\n",
        "def main():\n",
        "    todo_list = ToDoList()\n",
        "\n",
        "    while True:\n",
        "        print(\"\\nOptions:\")\n",
        "        print(\"1. Add Task\")\n",
        "        print(\"2. Update Task\")\n",
        "        print(\"3. Remove Task\")\n",
        "        print(\"4. Display Tasks\")\n",
        "        print(\"5. Exit\")\n",
        "\n",
        "        choice = input(\"Choose an option (1-5): \")\n",
        "\n",
        "        if choice == '1':\n",
        "            task = input(\"Enter the task: \")\n",
        "            todo_list.add_task(task)\n",
        "        elif choice == '2':\n",
        "            todo_list.display_tasks()\n",
        "            task_index = int(input(\"Enter the task number to update: \")) - 1\n",
        "            new_task = input(\"Enter the new task: \")\n",
        "            todo_list.update_task(task_index, new_task)\n",
        "        elif choice == '3':\n",
        "            todo_list.display_tasks()\n",
        "            task_index = int(input(\"Enter the task number to remove: \")) - 1\n",
        "            todo_list.remove_task(task_index)\n",
        "        elif choice == '4':\n",
        "            todo_list.display_tasks()\n",
        "        elif choice == '5':\n",
        "            print(\"Exiting the To-Do List application.\")\n",
        "            break\n",
        "        else:\n",
        "            print(\"Invalid option. Please choose again.\")\n",
        "\n",
        "if __name__ == \"__main__\":\n",
        "    main()"
      ]
    }
  ]
}